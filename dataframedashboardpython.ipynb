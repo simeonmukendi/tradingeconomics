{
 "cells": [
  {
   "cell_type": "code",
   "execution_count": 2,
   "metadata": {},
   "outputs": [],
   "source": [
    "import pandas as pd\n",
    "import numpy as np\n",
    "import matplotlib.pyplot as plt"
   ]
  },
  {
   "cell_type": "code",
   "execution_count": 3,
   "metadata": {},
   "outputs": [],
   "source": [
    "GDPDF={'Dates':['21/12/2018','28/02/2019', '28/03/2019', '26/04/2019', '30/05/2019','27/06/2019','26/07/2019'],\n",
    "       'GMT':['1:30 PM','2:30 PM', '3:30 PM', '4:30 PM', '5:30 PM','6:30 PM', '7:30 PM'],\n",
    "       'Description':['GDP Growth Rate QoQ Final','GDP Growth Rate QoQ', 'GDP Growth Rate QoQ Final', 'GDP Growth Rate QoQ Adv', 'GDP Growth Rate QoQ 2nd Est','GDP Growth Rate QoQ Final', 'GDP Growth Rate QoQ Adv'],\n",
    "       'Actual':['3.40%','2.60%', '2.20%', '3.20%', '','', ''],\n",
    "       'Previous':['4.20%','3.40%', '3.40%', '2.20%', '2.20%','2.20%', ''],\n",
    "       'Consensus':['3.50%','2.50%', '2.40%', '2', '3.20%','', ''],\n",
    "       'TEForecast':['3.50%','2.50%', '2.70%', '2%', '3.20%','3.20%', '2.40%']}"
   ]
  },
  {
   "cell_type": "code",
   "execution_count": 4,
   "metadata": {},
   "outputs": [],
   "source": [
    "GDPDF_frame=pd.DataFrame(GDPDF)"
   ]
  },
  {
   "cell_type": "code",
   "execution_count": 5,
   "metadata": {},
   "outputs": [
    {
     "data": {
      "text/html": [
       "<div>\n",
       "<style scoped>\n",
       "    .dataframe tbody tr th:only-of-type {\n",
       "        vertical-align: middle;\n",
       "    }\n",
       "\n",
       "    .dataframe tbody tr th {\n",
       "        vertical-align: top;\n",
       "    }\n",
       "\n",
       "    .dataframe thead th {\n",
       "        text-align: right;\n",
       "    }\n",
       "</style>\n",
       "<table border=\"1\" class=\"dataframe\">\n",
       "  <thead>\n",
       "    <tr style=\"text-align: right;\">\n",
       "      <th></th>\n",
       "      <th>Dates</th>\n",
       "      <th>GMT</th>\n",
       "      <th>Description</th>\n",
       "      <th>Actual</th>\n",
       "      <th>Previous</th>\n",
       "      <th>Consensus</th>\n",
       "      <th>TEForecast</th>\n",
       "    </tr>\n",
       "  </thead>\n",
       "  <tbody>\n",
       "    <tr>\n",
       "      <th>0</th>\n",
       "      <td>21/12/2018</td>\n",
       "      <td>1:30 PM</td>\n",
       "      <td>GDP Growth Rate QoQ Final</td>\n",
       "      <td>3.40%</td>\n",
       "      <td>4.20%</td>\n",
       "      <td>3.50%</td>\n",
       "      <td>3.50%</td>\n",
       "    </tr>\n",
       "    <tr>\n",
       "      <th>1</th>\n",
       "      <td>28/02/2019</td>\n",
       "      <td>2:30 PM</td>\n",
       "      <td>GDP Growth Rate QoQ</td>\n",
       "      <td>2.60%</td>\n",
       "      <td>3.40%</td>\n",
       "      <td>2.50%</td>\n",
       "      <td>2.50%</td>\n",
       "    </tr>\n",
       "    <tr>\n",
       "      <th>2</th>\n",
       "      <td>28/03/2019</td>\n",
       "      <td>3:30 PM</td>\n",
       "      <td>GDP Growth Rate QoQ Final</td>\n",
       "      <td>2.20%</td>\n",
       "      <td>3.40%</td>\n",
       "      <td>2.40%</td>\n",
       "      <td>2.70%</td>\n",
       "    </tr>\n",
       "    <tr>\n",
       "      <th>3</th>\n",
       "      <td>26/04/2019</td>\n",
       "      <td>4:30 PM</td>\n",
       "      <td>GDP Growth Rate QoQ Adv</td>\n",
       "      <td>3.20%</td>\n",
       "      <td>2.20%</td>\n",
       "      <td>2</td>\n",
       "      <td>2%</td>\n",
       "    </tr>\n",
       "    <tr>\n",
       "      <th>4</th>\n",
       "      <td>30/05/2019</td>\n",
       "      <td>5:30 PM</td>\n",
       "      <td>GDP Growth Rate QoQ 2nd Est</td>\n",
       "      <td></td>\n",
       "      <td>2.20%</td>\n",
       "      <td>3.20%</td>\n",
       "      <td>3.20%</td>\n",
       "    </tr>\n",
       "    <tr>\n",
       "      <th>5</th>\n",
       "      <td>27/06/2019</td>\n",
       "      <td>6:30 PM</td>\n",
       "      <td>GDP Growth Rate QoQ Final</td>\n",
       "      <td></td>\n",
       "      <td>2.20%</td>\n",
       "      <td></td>\n",
       "      <td>3.20%</td>\n",
       "    </tr>\n",
       "    <tr>\n",
       "      <th>6</th>\n",
       "      <td>26/07/2019</td>\n",
       "      <td>7:30 PM</td>\n",
       "      <td>GDP Growth Rate QoQ Adv</td>\n",
       "      <td></td>\n",
       "      <td></td>\n",
       "      <td></td>\n",
       "      <td>2.40%</td>\n",
       "    </tr>\n",
       "  </tbody>\n",
       "</table>\n",
       "</div>"
      ],
      "text/plain": [
       "        Dates      GMT                  Description Actual Previous Consensus  \\\n",
       "0  21/12/2018  1:30 PM    GDP Growth Rate QoQ Final  3.40%    4.20%     3.50%   \n",
       "1  28/02/2019  2:30 PM          GDP Growth Rate QoQ  2.60%    3.40%     2.50%   \n",
       "2  28/03/2019  3:30 PM    GDP Growth Rate QoQ Final  2.20%    3.40%     2.40%   \n",
       "3  26/04/2019  4:30 PM      GDP Growth Rate QoQ Adv  3.20%    2.20%         2   \n",
       "4  30/05/2019  5:30 PM  GDP Growth Rate QoQ 2nd Est           2.20%     3.20%   \n",
       "5  27/06/2019  6:30 PM    GDP Growth Rate QoQ Final           2.20%             \n",
       "6  26/07/2019  7:30 PM      GDP Growth Rate QoQ Adv                             \n",
       "\n",
       "  TEForecast  \n",
       "0      3.50%  \n",
       "1      2.50%  \n",
       "2      2.70%  \n",
       "3         2%  \n",
       "4      3.20%  \n",
       "5      3.20%  \n",
       "6      2.40%  "
      ]
     },
     "execution_count": 5,
     "metadata": {},
     "output_type": "execute_result"
    }
   ],
   "source": [
    "GDPDF_frame"
   ]
  },
  {
   "cell_type": "code",
   "execution_count": 6,
   "metadata": {},
   "outputs": [],
   "source": [
    "unemploymenetDF={'Dates':['04/01/2019','01/02/2019', '08/03/2019', '05/04/2019', '03/05/2019','07/06/2019','05/07/2019'],\n",
    "       'GMT':['1:30 PM','1:30 PM', '1:30 PM', '12:30 PM', '12:30 PM','12:30 PM', '12:30 PM'],\n",
    "       'Description':['Unemployment Rate','Unemployment Rate', 'Unemployment Rate', 'Unemployment Rate', 'Unemployment Rate','Unemployment Rate', 'Unemployment Rate'],\n",
    "       'Actual':['3.90%','4%', '3.80%', '3.80%', '','', ''],\n",
    "       'Previous':['3.70%','3.90%', '4%', '3.80%', '3.80%','', ''],\n",
    "       'Consensus':['3.70%','3.90%', '3.90%', '3.80%', '3.80%','', ''],\n",
    "       'TEForecast':['3.97%','3.90%', '3.90%', '3.80%', '3.80%','3.90%', '3.80%']}"
   ]
  },
  {
   "cell_type": "code",
   "execution_count": 7,
   "metadata": {},
   "outputs": [],
   "source": [
    "unemploymenetDF_frame=pd.DataFrame(unemploymenetDF)"
   ]
  },
  {
   "cell_type": "code",
   "execution_count": 8,
   "metadata": {},
   "outputs": [
    {
     "data": {
      "text/html": [
       "<div>\n",
       "<style scoped>\n",
       "    .dataframe tbody tr th:only-of-type {\n",
       "        vertical-align: middle;\n",
       "    }\n",
       "\n",
       "    .dataframe tbody tr th {\n",
       "        vertical-align: top;\n",
       "    }\n",
       "\n",
       "    .dataframe thead th {\n",
       "        text-align: right;\n",
       "    }\n",
       "</style>\n",
       "<table border=\"1\" class=\"dataframe\">\n",
       "  <thead>\n",
       "    <tr style=\"text-align: right;\">\n",
       "      <th></th>\n",
       "      <th>Dates</th>\n",
       "      <th>GMT</th>\n",
       "      <th>Description</th>\n",
       "      <th>Actual</th>\n",
       "      <th>Previous</th>\n",
       "      <th>Consensus</th>\n",
       "      <th>TEForecast</th>\n",
       "    </tr>\n",
       "  </thead>\n",
       "  <tbody>\n",
       "    <tr>\n",
       "      <th>0</th>\n",
       "      <td>04/01/2019</td>\n",
       "      <td>1:30 PM</td>\n",
       "      <td>Unemployment Rate</td>\n",
       "      <td>3.90%</td>\n",
       "      <td>3.70%</td>\n",
       "      <td>3.70%</td>\n",
       "      <td>3.97%</td>\n",
       "    </tr>\n",
       "    <tr>\n",
       "      <th>1</th>\n",
       "      <td>01/02/2019</td>\n",
       "      <td>1:30 PM</td>\n",
       "      <td>Unemployment Rate</td>\n",
       "      <td>4%</td>\n",
       "      <td>3.90%</td>\n",
       "      <td>3.90%</td>\n",
       "      <td>3.90%</td>\n",
       "    </tr>\n",
       "    <tr>\n",
       "      <th>2</th>\n",
       "      <td>08/03/2019</td>\n",
       "      <td>1:30 PM</td>\n",
       "      <td>Unemployment Rate</td>\n",
       "      <td>3.80%</td>\n",
       "      <td>4%</td>\n",
       "      <td>3.90%</td>\n",
       "      <td>3.90%</td>\n",
       "    </tr>\n",
       "    <tr>\n",
       "      <th>3</th>\n",
       "      <td>05/04/2019</td>\n",
       "      <td>12:30 PM</td>\n",
       "      <td>Unemployment Rate</td>\n",
       "      <td>3.80%</td>\n",
       "      <td>3.80%</td>\n",
       "      <td>3.80%</td>\n",
       "      <td>3.80%</td>\n",
       "    </tr>\n",
       "    <tr>\n",
       "      <th>4</th>\n",
       "      <td>03/05/2019</td>\n",
       "      <td>12:30 PM</td>\n",
       "      <td>Unemployment Rate</td>\n",
       "      <td></td>\n",
       "      <td>3.80%</td>\n",
       "      <td>3.80%</td>\n",
       "      <td>3.80%</td>\n",
       "    </tr>\n",
       "    <tr>\n",
       "      <th>5</th>\n",
       "      <td>07/06/2019</td>\n",
       "      <td>12:30 PM</td>\n",
       "      <td>Unemployment Rate</td>\n",
       "      <td></td>\n",
       "      <td></td>\n",
       "      <td></td>\n",
       "      <td>3.90%</td>\n",
       "    </tr>\n",
       "    <tr>\n",
       "      <th>6</th>\n",
       "      <td>05/07/2019</td>\n",
       "      <td>12:30 PM</td>\n",
       "      <td>Unemployment Rate</td>\n",
       "      <td></td>\n",
       "      <td></td>\n",
       "      <td></td>\n",
       "      <td>3.80%</td>\n",
       "    </tr>\n",
       "  </tbody>\n",
       "</table>\n",
       "</div>"
      ],
      "text/plain": [
       "        Dates       GMT        Description Actual Previous Consensus  \\\n",
       "0  04/01/2019   1:30 PM  Unemployment Rate  3.90%    3.70%     3.70%   \n",
       "1  01/02/2019   1:30 PM  Unemployment Rate     4%    3.90%     3.90%   \n",
       "2  08/03/2019   1:30 PM  Unemployment Rate  3.80%       4%     3.90%   \n",
       "3  05/04/2019  12:30 PM  Unemployment Rate  3.80%    3.80%     3.80%   \n",
       "4  03/05/2019  12:30 PM  Unemployment Rate           3.80%     3.80%   \n",
       "5  07/06/2019  12:30 PM  Unemployment Rate                             \n",
       "6  05/07/2019  12:30 PM  Unemployment Rate                             \n",
       "\n",
       "  TEForecast  \n",
       "0      3.97%  \n",
       "1      3.90%  \n",
       "2      3.90%  \n",
       "3      3.80%  \n",
       "4      3.80%  \n",
       "5      3.90%  \n",
       "6      3.80%  "
      ]
     },
     "execution_count": 8,
     "metadata": {},
     "output_type": "execute_result"
    }
   ],
   "source": [
    "unemploymenetDF_frame"
   ]
  },
  {
   "cell_type": "code",
   "execution_count": 9,
   "metadata": {},
   "outputs": [
    {
     "name": "stderr",
     "output_type": "stream",
     "text": [
      "C:\\Users\\User\\Anaconda2\\lib\\site-packages\\ipykernel_launcher.py:1: DeprecationWarning: \n",
      ".ix is deprecated. Please use\n",
      ".loc for label based indexing or\n",
      ".iloc for positional indexing\n",
      "\n",
      "See the documentation here:\n",
      "http://pandas.pydata.org/pandas-docs/stable/indexing.html#ix-indexer-is-deprecated\n",
      "  \"\"\"Entry point for launching an IPython kernel.\n"
     ]
    },
    {
     "data": {
      "text/html": [
       "<div>\n",
       "<style scoped>\n",
       "    .dataframe tbody tr th:only-of-type {\n",
       "        vertical-align: middle;\n",
       "    }\n",
       "\n",
       "    .dataframe tbody tr th {\n",
       "        vertical-align: top;\n",
       "    }\n",
       "\n",
       "    .dataframe thead th {\n",
       "        text-align: right;\n",
       "    }\n",
       "</style>\n",
       "<table border=\"1\" class=\"dataframe\">\n",
       "  <thead>\n",
       "    <tr style=\"text-align: right;\">\n",
       "      <th></th>\n",
       "      <th>Dates</th>\n",
       "      <th>GMT</th>\n",
       "      <th>Description</th>\n",
       "      <th>Actual</th>\n",
       "      <th>Previous</th>\n",
       "      <th>Consensus</th>\n",
       "      <th>TEForecast</th>\n",
       "    </tr>\n",
       "  </thead>\n",
       "  <tbody>\n",
       "    <tr>\n",
       "      <th>0</th>\n",
       "      <td>04/01/2019</td>\n",
       "      <td>1:30 PM</td>\n",
       "      <td>Unemployment Rate</td>\n",
       "      <td>3.90%</td>\n",
       "      <td>3.70%</td>\n",
       "      <td>3.70%</td>\n",
       "      <td>3.97%</td>\n",
       "    </tr>\n",
       "    <tr>\n",
       "      <th>1</th>\n",
       "      <td>01/02/2019</td>\n",
       "      <td>1:30 PM</td>\n",
       "      <td>Unemployment Rate</td>\n",
       "      <td>4%</td>\n",
       "      <td>3.90%</td>\n",
       "      <td>3.90%</td>\n",
       "      <td>3.90%</td>\n",
       "    </tr>\n",
       "    <tr>\n",
       "      <th>2</th>\n",
       "      <td>08/03/2019</td>\n",
       "      <td>1:30 PM</td>\n",
       "      <td>Unemployment Rate</td>\n",
       "      <td>3.80%</td>\n",
       "      <td>4%</td>\n",
       "      <td>3.90%</td>\n",
       "      <td>3.90%</td>\n",
       "    </tr>\n",
       "    <tr>\n",
       "      <th>3</th>\n",
       "      <td>05/04/2019</td>\n",
       "      <td>12:30 PM</td>\n",
       "      <td>Unemployment Rate</td>\n",
       "      <td>3.80%</td>\n",
       "      <td>3.80%</td>\n",
       "      <td>3.80%</td>\n",
       "      <td>3.80%</td>\n",
       "    </tr>\n",
       "    <tr>\n",
       "      <th>4</th>\n",
       "      <td>03/05/2019</td>\n",
       "      <td>12:30 PM</td>\n",
       "      <td>Unemployment Rate</td>\n",
       "      <td></td>\n",
       "      <td>3.80%</td>\n",
       "      <td>3.80%</td>\n",
       "      <td>3.80%</td>\n",
       "    </tr>\n",
       "    <tr>\n",
       "      <th>5</th>\n",
       "      <td>07/06/2019</td>\n",
       "      <td>12:30 PM</td>\n",
       "      <td>Unemployment Rate</td>\n",
       "      <td></td>\n",
       "      <td></td>\n",
       "      <td></td>\n",
       "      <td>3.90%</td>\n",
       "    </tr>\n",
       "    <tr>\n",
       "      <th>6</th>\n",
       "      <td>05/07/2019</td>\n",
       "      <td>12:30 PM</td>\n",
       "      <td>Unemployment Rate</td>\n",
       "      <td></td>\n",
       "      <td></td>\n",
       "      <td></td>\n",
       "      <td>3.80%</td>\n",
       "    </tr>\n",
       "  </tbody>\n",
       "</table>\n",
       "</div>"
      ],
      "text/plain": [
       "        Dates       GMT        Description Actual Previous Consensus  \\\n",
       "0  04/01/2019   1:30 PM  Unemployment Rate  3.90%    3.70%     3.70%   \n",
       "1  01/02/2019   1:30 PM  Unemployment Rate     4%    3.90%     3.90%   \n",
       "2  08/03/2019   1:30 PM  Unemployment Rate  3.80%       4%     3.90%   \n",
       "3  05/04/2019  12:30 PM  Unemployment Rate  3.80%    3.80%     3.80%   \n",
       "4  03/05/2019  12:30 PM  Unemployment Rate           3.80%     3.80%   \n",
       "5  07/06/2019  12:30 PM  Unemployment Rate                             \n",
       "6  05/07/2019  12:30 PM  Unemployment Rate                             \n",
       "\n",
       "  TEForecast  \n",
       "0      3.97%  \n",
       "1      3.90%  \n",
       "2      3.90%  \n",
       "3      3.80%  \n",
       "4      3.80%  \n",
       "5      3.90%  \n",
       "6      3.80%  "
      ]
     },
     "execution_count": 9,
     "metadata": {},
     "output_type": "execute_result"
    }
   ],
   "source": [
    "unemploymenetDF_frame.ix[0:6,'Dates':'TEForecast']"
   ]
  },
  {
   "cell_type": "code",
   "execution_count": 10,
   "metadata": {},
   "outputs": [
    {
     "name": "stderr",
     "output_type": "stream",
     "text": [
      "C:\\Users\\User\\Anaconda2\\lib\\site-packages\\ipykernel_launcher.py:1: DeprecationWarning: \n",
      ".ix is deprecated. Please use\n",
      ".loc for label based indexing or\n",
      ".iloc for positional indexing\n",
      "\n",
      "See the documentation here:\n",
      "http://pandas.pydata.org/pandas-docs/stable/indexing.html#ix-indexer-is-deprecated\n",
      "  \"\"\"Entry point for launching an IPython kernel.\n"
     ]
    },
    {
     "data": {
      "text/plain": [
       "0    False\n",
       "1    False\n",
       "2    False\n",
       "3    False\n",
       "4     True\n",
       "5     True\n",
       "6     True\n",
       "Name: Actual, dtype: bool"
      ]
     },
     "execution_count": 10,
     "metadata": {},
     "output_type": "execute_result"
    }
   ],
   "source": [
    "unemploymenetDF_frame.ix[0:6,'Dates':'TEForecast'].Actual<'3.80%'"
   ]
  },
  {
   "cell_type": "code",
   "execution_count": 11,
   "metadata": {},
   "outputs": [
    {
     "name": "stderr",
     "output_type": "stream",
     "text": [
      "C:\\Users\\User\\Anaconda2\\lib\\site-packages\\ipykernel_launcher.py:1: DeprecationWarning: \n",
      ".ix is deprecated. Please use\n",
      ".loc for label based indexing or\n",
      ".iloc for positional indexing\n",
      "\n",
      "See the documentation here:\n",
      "http://pandas.pydata.org/pandas-docs/stable/indexing.html#ix-indexer-is-deprecated\n",
      "  \"\"\"Entry point for launching an IPython kernel.\n"
     ]
    },
    {
     "data": {
      "text/html": [
       "<div>\n",
       "<style scoped>\n",
       "    .dataframe tbody tr th:only-of-type {\n",
       "        vertical-align: middle;\n",
       "    }\n",
       "\n",
       "    .dataframe tbody tr th {\n",
       "        vertical-align: top;\n",
       "    }\n",
       "\n",
       "    .dataframe thead th {\n",
       "        text-align: right;\n",
       "    }\n",
       "</style>\n",
       "<table border=\"1\" class=\"dataframe\">\n",
       "  <thead>\n",
       "    <tr style=\"text-align: right;\">\n",
       "      <th></th>\n",
       "      <th>Dates</th>\n",
       "      <th>GMT</th>\n",
       "      <th>Description</th>\n",
       "      <th>Actual</th>\n",
       "      <th>Previous</th>\n",
       "      <th>Consensus</th>\n",
       "      <th>TEForecast</th>\n",
       "    </tr>\n",
       "  </thead>\n",
       "  <tbody>\n",
       "    <tr>\n",
       "      <th>0</th>\n",
       "      <td>04/01/2019</td>\n",
       "      <td>1:30 PM</td>\n",
       "      <td>Unemployment Rate</td>\n",
       "      <td>3.90%</td>\n",
       "      <td>3.70%</td>\n",
       "      <td>3.70%</td>\n",
       "      <td>3.97%</td>\n",
       "    </tr>\n",
       "    <tr>\n",
       "      <th>2</th>\n",
       "      <td>08/03/2019</td>\n",
       "      <td>1:30 PM</td>\n",
       "      <td>Unemployment Rate</td>\n",
       "      <td>3.80%</td>\n",
       "      <td>4%</td>\n",
       "      <td>3.90%</td>\n",
       "      <td>3.90%</td>\n",
       "    </tr>\n",
       "    <tr>\n",
       "      <th>3</th>\n",
       "      <td>05/04/2019</td>\n",
       "      <td>12:30 PM</td>\n",
       "      <td>Unemployment Rate</td>\n",
       "      <td>3.80%</td>\n",
       "      <td>3.80%</td>\n",
       "      <td>3.80%</td>\n",
       "      <td>3.80%</td>\n",
       "    </tr>\n",
       "    <tr>\n",
       "      <th>4</th>\n",
       "      <td>03/05/2019</td>\n",
       "      <td>12:30 PM</td>\n",
       "      <td>Unemployment Rate</td>\n",
       "      <td></td>\n",
       "      <td>3.80%</td>\n",
       "      <td>3.80%</td>\n",
       "      <td>3.80%</td>\n",
       "    </tr>\n",
       "    <tr>\n",
       "      <th>5</th>\n",
       "      <td>07/06/2019</td>\n",
       "      <td>12:30 PM</td>\n",
       "      <td>Unemployment Rate</td>\n",
       "      <td></td>\n",
       "      <td></td>\n",
       "      <td></td>\n",
       "      <td>3.90%</td>\n",
       "    </tr>\n",
       "    <tr>\n",
       "      <th>6</th>\n",
       "      <td>05/07/2019</td>\n",
       "      <td>12:30 PM</td>\n",
       "      <td>Unemployment Rate</td>\n",
       "      <td></td>\n",
       "      <td></td>\n",
       "      <td></td>\n",
       "      <td>3.80%</td>\n",
       "    </tr>\n",
       "  </tbody>\n",
       "</table>\n",
       "</div>"
      ],
      "text/plain": [
       "        Dates       GMT        Description Actual Previous Consensus  \\\n",
       "0  04/01/2019   1:30 PM  Unemployment Rate  3.90%    3.70%     3.70%   \n",
       "2  08/03/2019   1:30 PM  Unemployment Rate  3.80%       4%     3.90%   \n",
       "3  05/04/2019  12:30 PM  Unemployment Rate  3.80%    3.80%     3.80%   \n",
       "4  03/05/2019  12:30 PM  Unemployment Rate           3.80%     3.80%   \n",
       "5  07/06/2019  12:30 PM  Unemployment Rate                             \n",
       "6  05/07/2019  12:30 PM  Unemployment Rate                             \n",
       "\n",
       "  TEForecast  \n",
       "0      3.97%  \n",
       "2      3.90%  \n",
       "3      3.80%  \n",
       "4      3.80%  \n",
       "5      3.90%  \n",
       "6      3.80%  "
      ]
     },
     "execution_count": 11,
     "metadata": {},
     "output_type": "execute_result"
    }
   ],
   "source": [
    "unemploymenetDF_frame[unemploymenetDF_frame.ix[0:6,'Dates':'TEForecast'].Actual<'4%']"
   ]
  },
  {
   "cell_type": "code",
   "execution_count": 12,
   "metadata": {},
   "outputs": [
    {
     "name": "stderr",
     "output_type": "stream",
     "text": [
      "C:\\Users\\User\\Anaconda2\\lib\\site-packages\\ipykernel_launcher.py:1: DeprecationWarning: \n",
      ".ix is deprecated. Please use\n",
      ".loc for label based indexing or\n",
      ".iloc for positional indexing\n",
      "\n",
      "See the documentation here:\n",
      "http://pandas.pydata.org/pandas-docs/stable/indexing.html#ix-indexer-is-deprecated\n",
      "  \"\"\"Entry point for launching an IPython kernel.\n"
     ]
    },
    {
     "data": {
      "text/html": [
       "<div>\n",
       "<style scoped>\n",
       "    .dataframe tbody tr th:only-of-type {\n",
       "        vertical-align: middle;\n",
       "    }\n",
       "\n",
       "    .dataframe tbody tr th {\n",
       "        vertical-align: top;\n",
       "    }\n",
       "\n",
       "    .dataframe thead th {\n",
       "        text-align: right;\n",
       "    }\n",
       "</style>\n",
       "<table border=\"1\" class=\"dataframe\">\n",
       "  <thead>\n",
       "    <tr style=\"text-align: right;\">\n",
       "      <th></th>\n",
       "      <th>Dates</th>\n",
       "      <th>GMT</th>\n",
       "      <th>Description</th>\n",
       "      <th>Actual</th>\n",
       "      <th>Previous</th>\n",
       "      <th>Consensus</th>\n",
       "      <th>TEForecast</th>\n",
       "    </tr>\n",
       "  </thead>\n",
       "  <tbody>\n",
       "  </tbody>\n",
       "</table>\n",
       "</div>"
      ],
      "text/plain": [
       "Empty DataFrame\n",
       "Columns: [Dates, GMT, Description, Actual, Previous, Consensus, TEForecast]\n",
       "Index: []"
      ]
     },
     "execution_count": 12,
     "metadata": {},
     "output_type": "execute_result"
    }
   ],
   "source": [
    "unemploymenetDF_frame[unemploymenetDF_frame.ix[0:6,'Dates':'TEForecast'].Actual>'8.5%']"
   ]
  },
  {
   "cell_type": "code",
   "execution_count": 13,
   "metadata": {},
   "outputs": [
    {
     "name": "stderr",
     "output_type": "stream",
     "text": [
      "C:\\Users\\User\\Anaconda2\\lib\\site-packages\\ipykernel_launcher.py:1: DeprecationWarning: \n",
      ".ix is deprecated. Please use\n",
      ".loc for label based indexing or\n",
      ".iloc for positional indexing\n",
      "\n",
      "See the documentation here:\n",
      "http://pandas.pydata.org/pandas-docs/stable/indexing.html#ix-indexer-is-deprecated\n",
      "  \"\"\"Entry point for launching an IPython kernel.\n"
     ]
    }
   ],
   "source": [
    "X=unemploymenetDF_frame[unemploymenetDF_frame.ix[0:6,'Dates':'TEForecast'].Actual<'4%']"
   ]
  },
  {
   "cell_type": "code",
   "execution_count": null,
   "metadata": {},
   "outputs": [],
   "source": [
    "plt.plot()\n"
   ]
  },
  {
   "cell_type": "code",
   "execution_count": 27,
   "metadata": {},
   "outputs": [
    {
     "name": "stderr",
     "output_type": "stream",
     "text": [
      "C:\\Users\\User\\Anaconda2\\lib\\site-packages\\ipykernel_launcher.py:1: DeprecationWarning:\n",
      "\n",
      "\n",
      ".ix is deprecated. Please use\n",
      ".loc for label based indexing or\n",
      ".iloc for positional indexing\n",
      "\n",
      "See the documentation here:\n",
      "http://pandas.pydata.org/pandas-docs/stable/indexing.html#ix-indexer-is-deprecated\n",
      "\n"
     ]
    }
   ],
   "source": [
    "X=unemploymenetDF_frame[unemploymenetDF_frame.ix[0:6,'Dates':'TEForecast'].Actual<'4%']"
   ]
  },
  {
   "cell_type": "code",
   "execution_count": 28,
   "metadata": {},
   "outputs": [
    {
     "data": {
      "text/html": [
       "<div>\n",
       "<style scoped>\n",
       "    .dataframe tbody tr th:only-of-type {\n",
       "        vertical-align: middle;\n",
       "    }\n",
       "\n",
       "    .dataframe tbody tr th {\n",
       "        vertical-align: top;\n",
       "    }\n",
       "\n",
       "    .dataframe thead th {\n",
       "        text-align: right;\n",
       "    }\n",
       "</style>\n",
       "<table border=\"1\" class=\"dataframe\">\n",
       "  <thead>\n",
       "    <tr style=\"text-align: right;\">\n",
       "      <th></th>\n",
       "      <th>Dates</th>\n",
       "      <th>GMT</th>\n",
       "      <th>Description</th>\n",
       "      <th>Actual</th>\n",
       "      <th>Previous</th>\n",
       "      <th>Consensus</th>\n",
       "      <th>TEForecast</th>\n",
       "    </tr>\n",
       "  </thead>\n",
       "  <tbody>\n",
       "    <tr>\n",
       "      <th>0</th>\n",
       "      <td>04/01/2019</td>\n",
       "      <td>1:30 PM</td>\n",
       "      <td>Unemployment Rate</td>\n",
       "      <td>3.90%</td>\n",
       "      <td>3.70%</td>\n",
       "      <td>3.70%</td>\n",
       "      <td>3.97%</td>\n",
       "    </tr>\n",
       "    <tr>\n",
       "      <th>2</th>\n",
       "      <td>08/03/2019</td>\n",
       "      <td>1:30 PM</td>\n",
       "      <td>Unemployment Rate</td>\n",
       "      <td>3.80%</td>\n",
       "      <td>4%</td>\n",
       "      <td>3.90%</td>\n",
       "      <td>3.90%</td>\n",
       "    </tr>\n",
       "    <tr>\n",
       "      <th>3</th>\n",
       "      <td>05/04/2019</td>\n",
       "      <td>12:30 PM</td>\n",
       "      <td>Unemployment Rate</td>\n",
       "      <td>3.80%</td>\n",
       "      <td>3.80%</td>\n",
       "      <td>3.80%</td>\n",
       "      <td>3.80%</td>\n",
       "    </tr>\n",
       "    <tr>\n",
       "      <th>4</th>\n",
       "      <td>03/05/2019</td>\n",
       "      <td>12:30 PM</td>\n",
       "      <td>Unemployment Rate</td>\n",
       "      <td></td>\n",
       "      <td>3.80%</td>\n",
       "      <td>3.80%</td>\n",
       "      <td>3.80%</td>\n",
       "    </tr>\n",
       "    <tr>\n",
       "      <th>5</th>\n",
       "      <td>07/06/2019</td>\n",
       "      <td>12:30 PM</td>\n",
       "      <td>Unemployment Rate</td>\n",
       "      <td></td>\n",
       "      <td></td>\n",
       "      <td></td>\n",
       "      <td>3.90%</td>\n",
       "    </tr>\n",
       "    <tr>\n",
       "      <th>6</th>\n",
       "      <td>05/07/2019</td>\n",
       "      <td>12:30 PM</td>\n",
       "      <td>Unemployment Rate</td>\n",
       "      <td></td>\n",
       "      <td></td>\n",
       "      <td></td>\n",
       "      <td>3.80%</td>\n",
       "    </tr>\n",
       "  </tbody>\n",
       "</table>\n",
       "</div>"
      ],
      "text/plain": [
       "        Dates       GMT        Description Actual Previous Consensus  \\\n",
       "0  04/01/2019   1:30 PM  Unemployment Rate  3.90%    3.70%     3.70%   \n",
       "2  08/03/2019   1:30 PM  Unemployment Rate  3.80%       4%     3.90%   \n",
       "3  05/04/2019  12:30 PM  Unemployment Rate  3.80%    3.80%     3.80%   \n",
       "4  03/05/2019  12:30 PM  Unemployment Rate           3.80%     3.80%   \n",
       "5  07/06/2019  12:30 PM  Unemployment Rate                             \n",
       "6  05/07/2019  12:30 PM  Unemployment Rate                             \n",
       "\n",
       "  TEForecast  \n",
       "0      3.97%  \n",
       "2      3.90%  \n",
       "3      3.80%  \n",
       "4      3.80%  \n",
       "5      3.90%  \n",
       "6      3.80%  "
      ]
     },
     "execution_count": 28,
     "metadata": {},
     "output_type": "execute_result"
    }
   ],
   "source": [
    "X\n"
   ]
  },
  {
   "cell_type": "code",
   "execution_count": 30,
   "metadata": {},
   "outputs": [
    {
     "ename": "NameError",
     "evalue": "name 'Description' is not defined",
     "output_type": "error",
     "traceback": [
      "\u001b[1;31m---------------------------------------------------------------------------\u001b[0m",
      "\u001b[1;31mNameError\u001b[0m                                 Traceback (most recent call last)",
      "\u001b[1;32m<ipython-input-30-feac24f14591>\u001b[0m in \u001b[0;36m<module>\u001b[1;34m\u001b[0m\n\u001b[1;32m----> 1\u001b[1;33m \u001b[0mplt\u001b[0m\u001b[1;33m.\u001b[0m\u001b[0mplot\u001b[0m\u001b[1;33m(\u001b[0m\u001b[0mDescription\u001b[0m\u001b[1;33m,\u001b[0m \u001b[0mTEForecast\u001b[0m\u001b[1;33m)\u001b[0m\u001b[1;33m\u001b[0m\u001b[1;33m\u001b[0m\u001b[0m\n\u001b[0m",
      "\u001b[1;31mNameError\u001b[0m: name 'Description' is not defined"
     ]
    }
   ],
   "source": [
    "plt.plot(Description, TEForecast)"
   ]
  },
  {
   "cell_type": "code",
   "execution_count": 34,
   "metadata": {},
   "outputs": [],
   "source": [
    "a=X.Dates\n",
    "b=X.TEForecast"
   ]
  },
  {
   "cell_type": "code",
   "execution_count": 36,
   "metadata": {},
   "outputs": [
    {
     "data": {
      "text/plain": [
       "Text(0.5, 1.0, 'US Unemployment rate TEForecast')"
      ]
     },
     "execution_count": 36,
     "metadata": {},
     "output_type": "execute_result"
    },
    {
     "data": {
      "image/png": "[encoded data removed]",
      "text/plain": [
       "<Figure size 432x288 with 1 Axes>"
      ]
     },
     "metadata": {
      "needs_background": "light"
     },
     "output_type": "display_data"
    }
   ],
   "source": [
    "plt.plot(a,b)\n",
    "plt.xlabel('Dates')\n",
    "plt.ylabel('TEForecast')\n",
    "plt.title('US Unemployment rate TEForecast')\n"
   ]
  },
  {
   "cell_type": "code",
   "execution_count": null,
   "metadata": {},
   "outputs": [],
   "source": []
  }
 ],
 "metadata": {
  "kernelspec": {
   "display_name": "Python 3",
   "language": "python",
   "name": "python3"
  },
  "language_info": {
   "codemirror_mode": {
    "name": "ipython",
    "version": 3
   },
   "file_extension": ".py",
   "mimetype": "text/x-python",
   "name": "python",
   "nbconvert_exporter": "python",
   "pygments_lexer": "ipython3",
   "version": "3.6.8"
  }
 },
 "nbformat": 4,
 "nbformat_minor": 2
}
